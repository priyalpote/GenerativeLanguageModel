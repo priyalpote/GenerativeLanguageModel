{
  "nbformat": 4,
  "nbformat_minor": 0,
  "metadata": {
    "colab": {
      "provenance": [],
      "authorship_tag": "ABX9TyPO0zeKxTWM9hvUW99x9uW6",
      "include_colab_link": true
    },
    "kernelspec": {
      "name": "python3",
      "display_name": "Python 3"
    },
    "language_info": {
      "name": "python"
    }
  },
  "cells": [
    {
      "cell_type": "markdown",
      "metadata": {
        "id": "view-in-github",
        "colab_type": "text"
      },
      "source": [
        "<a href=\"https://colab.research.google.com/github/priyalpote/GenerativeLanguageModel/blob/main/sentiment.ipynb\" target=\"_parent\"><img src=\"https://colab.research.google.com/assets/colab-badge.svg\" alt=\"Open In Colab\"/></a>"
      ]
    },
    {
      "cell_type": "markdown",
      "source": [
        "\n",
        "# Sentiment analysis using naive bias\n"
      ],
      "metadata": {
        "id": "VGUSM1hWrp8M"
      }
    },
    {
      "cell_type": "code",
      "execution_count": 1,
      "metadata": {
        "id": "hsMgKa57qXL6"
      },
      "outputs": [],
      "source": [
        "from string import punctuation\n",
        "from collections import Counter\n",
        "from collections import defaultdict"
      ]
    },
    {
      "cell_type": "code",
      "source": [
        "post_comments_with_labels = [\n",
        "    (\"I love this post.\", \"pos\"),\n",
        "    (\"This post is your best work.\", \"pos\"),\n",
        "    (\"I really liked this post.\", \"pos\"),\n",
        "    ('I agree 100 percent. This is true', 'pos'),\n",
        "    (\"This post is spot on!\", \"pos\"),\n",
        "    (\"So smart!\", \"pos\"),\n",
        "    (\"What a good point!\", \"pos\"),\n",
        "    (\"Bad stuff.\", \"neg\"),\n",
        "    (\"I hate this.\", \"neg\"),\n",
        "    (\"This post is horrible.\", \"neg\"),\n",
        "    (\"I really disliked this post.\", \"neg\"),\n",
        "    (\"What a waste of time.\", \"neg\"),\n",
        "    (\"I do not agree with this post.\", \"neg\"),\n",
        "    (\"I can't believe you would post this.\", \"neg\"),\n",
        "]\n"
      ],
      "metadata": {
        "id": "46xksCp9qkZL"
      },
      "execution_count": 2,
      "outputs": []
    },
    {
      "cell_type": "code",
      "source": [
        "class NaiveBayesClassifier:\n",
        "    def __init__(self, samples):\n",
        "        self.mapping = {\"pos\": [], \"neg\": []}\n",
        "        self.neg_mapping = defaultdict(lambda: 0)\n",
        "        self.sample_count = len(samples)\n",
        "        for text, label in samples:\n",
        "            self.mapping[label] += self.tokenize(text)\n",
        "        self.pos_counter = Counter(self.mapping[\"pos\"])\n",
        "        self.neg_counter = Counter(self.mapping[\"neg\"])\n",
        "\n",
        "    @staticmethod\n",
        "    def tokenize(text):\n",
        "        return (\n",
        "            text.lower().translate(str.maketrans(\"\", \"\", punctuation + \"1234567890\"))\n",
        "            .replace(\"\\n\", \" \")\n",
        "            .split(\" \")\n",
        "        )\n",
        "\n",
        "    def classify(self, text):\n",
        "        tokens = self.tokenize(text)\n",
        "        pos = []\n",
        "        neg = []\n",
        "\n",
        "        for token in tokens:\n",
        "            pos.append(self.pos_counter[token]/ self.sample_count)\n",
        "            neg.append(self.neg_counter[token]/self.sample_count)\n",
        "\n",
        "        # rerturn \"neg\", \"pos\" or \"nutral\"\n",
        "        # print(pos)\n",
        "        # print(neg)\n",
        "        # print(\"==============\")\n",
        "        # print(sum(pos))\n",
        "        # print(sum(neg))\n",
        "        if sum(pos)-sum(neg)>0.03:\n",
        "            return \"pos\"\n",
        "        elif sum(pos)-sum(neg)< -(0.03):\n",
        "            return \"neg\"\n",
        "        else:\n",
        "            return \"nutral\"\n"
      ],
      "metadata": {
        "id": "rxjbjP-OqnvT"
      },
      "execution_count": 34,
      "outputs": []
    },
    {
      "cell_type": "code",
      "source": [
        "cl = NaiveBayesClassifier(post_comments_with_labels)\n",
        "\n",
        "show_expected_result = False\n",
        "show_hints = False\n",
        "\n",
        "def get_sentiment(text):\n",
        "    cl = NaiveBayesClassifier(post_comments_with_labels)\n",
        "    return cl.classify(text)\n"
      ],
      "metadata": {
        "id": "3d8m8YGxq3ZF"
      },
      "execution_count": 35,
      "outputs": []
    },
    {
      "cell_type": "code",
      "source": [
        "text = \"its raining\"\n",
        "\n",
        "result = get_sentiment(text)\n",
        "print(text,\" : \",result)"
      ],
      "metadata": {
        "colab": {
          "base_uri": "https://localhost:8080/"
        },
        "id": "Vj2Py8k9reGu",
        "outputId": "2e81e0c3-aded-496a-a932-01efea29bacc"
      },
      "execution_count": 38,
      "outputs": [
        {
          "output_type": "stream",
          "name": "stdout",
          "text": [
            "its raining  :  nutral\n"
          ]
        }
      ]
    },
    {
      "cell_type": "code",
      "source": [],
      "metadata": {
        "id": "zIAnnJAQuaDa"
      },
      "execution_count": null,
      "outputs": []
    }
  ]
}