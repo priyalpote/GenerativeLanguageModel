{
  "nbformat": 4,
  "nbformat_minor": 0,
  "metadata": {
    "colab": {
      "provenance": [],
      "authorship_tag": "ABX9TyOLwtTjGT9zBYCNJg6EChkb",
      "include_colab_link": true
    },
    "kernelspec": {
      "name": "python3",
      "display_name": "Python 3"
    },
    "language_info": {
      "name": "python"
    }
  },
  "cells": [
    {
      "cell_type": "markdown",
      "metadata": {
        "id": "view-in-github",
        "colab_type": "text"
      },
      "source": [
        "<a href=\"https://colab.research.google.com/github/priyalpote/GenerativeLanguageModel/blob/main/markovChain.ipynb\" target=\"_parent\"><img src=\"https://colab.research.google.com/assets/colab-badge.svg\" alt=\"Open In Colab\"/></a>"
      ]
    },
    {
      "cell_type": "code",
      "execution_count": 24,
      "metadata": {
        "id": "WCvBNbIYeDkR"
      },
      "outputs": [],
      "source": [
        "import random\n",
        "from collections import defaultdict\n",
        "from string import punctuation"
      ]
    },
    {
      "cell_type": "code",
      "source": [
        "tokens = ['I','try','to','learn', 'something', 'new', 'everyday']\n",
        "graph = defaultdict(list)"
      ],
      "metadata": {
        "id": "0P6L86RAfIvN"
      },
      "execution_count": 25,
      "outputs": []
    },
    {
      "cell_type": "code",
      "source": [
        "print (graph['Word'])"
      ],
      "metadata": {
        "colab": {
          "base_uri": "https://localhost:8080/"
        },
        "id": "O059E37pfyL4",
        "outputId": "d373d4b8-af4a-450d-8751-9ca23ba34ba0"
      },
      "execution_count": 26,
      "outputs": [
        {
          "output_type": "stream",
          "name": "stdout",
          "text": [
            "[]\n"
          ]
        }
      ]
    },
    {
      "cell_type": "code",
      "source": [
        "for i,token in enumerate(tokens):\n",
        "  print(i,token)"
      ],
      "metadata": {
        "colab": {
          "base_uri": "https://localhost:8080/"
        },
        "id": "ucIdXuKOf02X",
        "outputId": "45569daf-3bdd-4195-ebab-ba37636b376e"
      },
      "execution_count": 27,
      "outputs": [
        {
          "output_type": "stream",
          "name": "stdout",
          "text": [
            "0 I\n",
            "1 try\n",
            "2 to\n",
            "3 learn\n",
            "4 something\n",
            "5 new\n",
            "6 everyday\n"
          ]
        }
      ]
    },
    {
      "cell_type": "code",
      "source": [
        "print(random.choice(tokens))\n",
        "print(random.choice(tokens))\n",
        "print(random.choice(tokens))"
      ],
      "metadata": {
        "colab": {
          "base_uri": "https://localhost:8080/"
        },
        "id": "ZDydND5Af6Rg",
        "outputId": "2d6e111f-f44f-453d-871c-29608d46f026"
      },
      "execution_count": 28,
      "outputs": [
        {
          "output_type": "stream",
          "name": "stdout",
          "text": [
            "try\n",
            "to\n",
            "new\n"
          ]
        }
      ]
    },
    {
      "cell_type": "code",
      "source": [
        "class MarkovChain:\n",
        "  def __init__(self):\n",
        "    self.graph = defaultdict(list)\n",
        "\n",
        "  def _tokenize(self, text):\n",
        "    return(\n",
        "        text.translate(str.maketrans('','',punctuation+'1234567890'))\n",
        "        .replace('\\n',\" \")\n",
        "        .split(\" \")\n",
        "    )\n",
        "\n",
        "  def train(self,text):\n",
        "    tokens= self._tokenize(text)\n",
        "\n",
        "    for i, token in enumerate(tokens):\n",
        "      if len(tokens)-1 ==i:\n",
        "        break\n",
        "      else:\n",
        "        self.graph[token].append(tokens[i+1])\n",
        "\n",
        "  def generate(self, prompt, length=100):\n",
        "        # get the lask token from the prompt\n",
        "        current = self._tokenize(prompt)[-1]\n",
        "        # initialize the output\n",
        "        output = prompt\n",
        "        for i in range(length):\n",
        "            # look up the options in the graph dictionary\n",
        "            options = self.graph.get(current, [])\n",
        "            if not options:\n",
        "                continue\n",
        "            current = random.choice(options)\n",
        "            # add the random choice to the output string\n",
        "            # print('x',i,options)\n",
        "            # print(1,current)\n",
        "            output =output + \" \"+ current\n",
        "        return output"
      ],
      "metadata": {
        "id": "mUC-LGk0gQWU"
      },
      "execution_count": 47,
      "outputs": []
    },
    {
      "cell_type": "code",
      "source": [
        "text = \"\"\"\n",
        "Andrey Markov was born on 14 June 1856 in Russia. He attended the St. Petersburg Grammar School, where some teachers saw him as a rebellious student. In his academics he performed poorly in most subjects other than mathematics. Later in life he attended Saint Petersburg Imperial University (now Saint Petersburg State University). Among his teachers were Yulian Sokhotski (differential calculus, higher algebra), Konstantin Posse (analytic geometry), Yegor Zolotarev (integral calculus), Pafnuty Chebyshev (number theory and probability theory), Aleksandr Korkin (ordinary and partial differential equations), Mikhail Okatov (mechanism theory), Osip Somov (mechanics), and Nikolai Budajev (descriptive and higher geometry). He completed his studies at the university and was later asked if he would like to stay and have a career as a Mathematician. He later taught at high schools and continued his own mathematical studies. In this time he found a practical use for his mathematical skills. He figured out that he could use chains to model the alliteration of vowels and consonants in Russian literature. He also contributed to many other mathematical aspects in his time. He died at age 66 on 20 July 1922.\n",
        "Torvalds was born in Helsinki, Finland, the son of journalists Anna and Nils Torvalds,[7] the grandson of statistician Leo Törnqvist and of poet Ole Torvalds, and the great-grandson of journalist and soldier Toivo Karanko. His parents were campus radicals at the University of Helsinki in the 1960s. His family belongs to the Swedish-speaking minority in Finland. He was named after Linus Pauling, the Nobel Prize-winning American chemist, although in the book Rebel Code: Linux and the Open Source Revolution, he is quoted as saying, \"I think I was named equally for Linus the Peanuts cartoon character\", noting that this made him \"half Nobel Prize-winning chemist and half blanket-carrying cartoon character\".[8]\n",
        "\n",
        "Torvalds attended the University of Helsinki from 1988 to 1996,[9] graduating with a master's degree in computer science from the NODES research group.[10] His academic career was interrupted after his first year of study when he joined the Finnish Navy Nyland Brigade in the summer of 1989, selecting the 11-month officer training program to fulfill the mandatory military service of Finland. He gained the rank of second lieutenant, with the role of an artillery observer.[11] He bought computer science professor Andrew Tanenbaum's book Operating Systems: Design and Implementation, in which Tanenbaum describes MINIX, an educational stripped-down version of Unix. In 1990, Torvalds resumed his university studies, and was exposed to Unix for the first time in the form of a DEC MicroVAX running ULTRIX.[12] His MSc thesis was titled Linux: A Portable Operating System.[13]\n",
        "\n",
        "His interest in computers began with a VIC-20[14] at the age of 11 in 1981. He started programming for it in BASIC, then later by directly accessing the 6502 CPU in machine code (he did not utilize assembly language).[15] He then purchased a Sinclair QL, which he modified extensively, especially its operating system. \"Because it was so hard to get software for it in Finland\", he wrote his own assembler and editor \"(in addition to Pac-Man graphics libraries)\"[16] for the QL, and a few games.[17][18] He wrote a Pac-Man clone, Cool Man. On 5 January 1991[19] he purchased an Intel 80386-based clone of IBM PC[20] before receiving his MINIX copy, which in turn enabled him to begin work on Linux.\n",
        "\n",
        "Linux\n",
        "Main article: History of Linux\n",
        "The first Linux prototypes were publicly released in late 1991.[8][21] Version 1.0 was released on 14 March 1994.[22]\n",
        "\n",
        "Torvalds first encountered the GNU Project in 1991 when another Swedish-speaking computer science student, Lars Wirzenius, took him to the University of Technology to listen to free software guru Richard Stallman's speech.[citation needed] Torvalds used Stallman's GNU General Public License version 2 (GPLv2) for his Linux kernel.\n",
        "\n",
        "After a visit to Transmeta in late 1996,[23] Torvalds accepted a position at the company in California, where he worked from February 1997 to June 2003. He then moved to the Open Source Development Labs, which has since merged with the Free Standards Group to become the Linux Foundation, under whose auspices he continues to work. In June 2004, Torvalds and his family moved to Dunthorpe, Oregon[24] to be closer to the OSDL's headquarters in Beaverton.\n",
        "\n",
        "From 1997 to 1999, he was involved in 86open, helping select the standard binary format for Linux and Unix. In 1999, he was named by the MIT Technology Review TR100 as one of the world's top 100 innovators under age 35.[25]\n",
        "\n",
        "In 1999, Red Hat and VA Linux, both leading developers of Linux-based software, presented Torvalds with stock options in gratitude for his creation.[26] That year both companies went public and Torvalds's share value briefly shot up to about US$20 million.[27][28]\n",
        "\n",
        "His personal mascot is a penguin nicknamed Tux,[29] which has been widely adopted by the Linux community as the Linux kernel's mascot.[30]\n",
        "\n",
        "Although Torvalds believes \"open source is the only right way to do software\", he also has said that he uses the \"best tool for the job\", even if that includes proprietary software.[31] He was criticized for his use and alleged advocacy of the proprietary BitKeeper software for version control in the Linux kernel. He subsequently wrote a free-software replacement for it called Git.\n",
        "\n",
        "In 2008, Torvalds stated that he used the Fedora Linux distribution because it had fairly good support for the PowerPC processor architecture, which he favored at the time.[32] He confirmed this in a 2012 interview.[33] He has also posted updates about his choice of desktop environment, often in response to perceived feature regressions.\n",
        "\n",
        "The Linux Foundation currently sponsors Torvalds so he can work full-time on improving Linux.[34]\n",
        "\n",
        "Torvalds is known for vocally disagreeing with other developers on the Linux kernel mailing list.[35] Calling himself a \"really unpleasant person\", he explained, \"I'd like to be a nice person and curse less and encourage people to grow rather than telling them they are idiots. I'm sorry—I tried, it's just not in me.\"[36][37] His attitude, which he considers necessary for making his points clear, has drawn criticism from Intel programmer Sage Sharp and systemd developer Lennart Poettering, among others.[38][failed verification][39]\n",
        "\n",
        "On Sunday, 16 September 2018, the Linux kernel Code of Conflict was suddenly replaced by a new Code of Conduct based on the Contributor Covenant. Shortly thereafter, in the release notes for Linux 4.19-rc4, Torvalds apologized for his behavior, calling his personal attacks of the past \"unprofessional and uncalled for\" and announced a period of \"time off\" to \"get some assistance on how to understand people's emotions and respond appropriately\". It soon transpired that these events followed The New Yorker approaching Torvalds with a series of questions critical of his conduct.[40][41][42] Following the release of Linux 4.19 on 22 October 2018, Torvalds returned to maintaining the kernel.[43]\n",
        "\"\"\"\n",
        "\n",
        "\n",
        "song_text=\"\"\"\n",
        "Wo.. wowo.. wo..wowo..\n",
        "Aasan nahin yahan aashiq ho jana\n",
        "Palkon pe kanton ko sajana..\n",
        "Aashiq ko milti hain\n",
        "Gham ki saugatein\n",
        "Sabko na milta ye khazana…\n",
        "Wo.. wowo.. wo..wowo..\n",
        "Wo.. wowo.. wo..wowo..\n",
        "\n",
        "Baaton se aage\n",
        "Waadon se aage\n",
        "Dekho zara\n",
        "Tum kabhi..\n",
        "Yeh toh hai shola\n",
        "Yeh hai Chingari\n",
        "Yeh hai jo aag bhi\n",
        "Wo.. wowo.. wo..wowo..\n",
        "Wo.. wowo.. wo..wowo..\n",
        "\n",
        "Jismon ke peeche\n",
        "Bhaage ho phirte\n",
        "Utro kabhi rooh mein ho..\n",
        "\n",
        "Hota kya aashiq\n",
        "Kya aashiqui hai\n",
        "Hogi khabar tab tumhe\n",
        "Ho..wowo.. wo..wowo..\n",
        "Wo..wowo.. wo..wowo..\n",
        "Aa.. wo.. yeyi..ya..\n",
        "\n",
        "Baatein ye kabhi na\n",
        "Tu bhoolna\n",
        "Koi tere khatir\n",
        "Hai jee raha\n",
        "Jaaye tu kahin bhi\n",
        "Yeh sochna\n",
        "Koi tere khatir\n",
        "Hai jee raha\n",
        "Tu jahaan jaaye\n",
        "Mehfooz ho\n",
        "Tu jahaan jaaye\n",
        "Mehfooz ho\n",
        "Dil mera maange\n",
        "Bas ye dua\n",
        "\n",
        "Baatein ye kabhi na\n",
        "Tu bhoolna\n",
        "Koi tere khatir\n",
        "Hai jee raha\n",
        "Jaaye tu kahin bhi\n",
        "Yeh sochna\n",
        "Koi tere khatir\n",
        "Hai jee raha\n",
        "\n",
        "Humdard hai\n",
        "Humdum bhi hai\n",
        "Tu saath hai toh.. zindagi\n",
        "Tu jo kabhi door rahe\n",
        "Ye humse ho jaaye ajnabi\n",
        "Tujhse mohabbat karte hain jo\n",
        "Tujhse mohabbat karte hain jo\n",
        "Kaise kare hum usko bayaan\n",
        "\n",
        "Baatein ye kabhi na\n",
        "Tu bhoolna\n",
        "Koi tere khatir\n",
        "Hai jee raha\n",
        "Jaaye tu kahin bhi\n",
        "Yeh sochna\n",
        "Koi tere khatir\n",
        "Hai jee raha\n",
        "\n",
        "Jaagi bhi hai\n",
        "Royi bhi hai\n",
        "Aankhein ye raaton mein mere\n",
        "Kyun har ghadi\n",
        "Milke tujhe\n",
        "Lagti rahe bas teri kami\n",
        "Hum toh na samjhe\n",
        "Tum hi kaho\n",
        "Hum toh na samjhe\n",
        "Tum hi kaho\n",
        "Kyun tumko paake tumse juda\n",
        "\n",
        "Baatein ye kabhi na\n",
        "Tu bhoolna\n",
        "Koi tere khatir\n",
        "Hai jee raha\n",
        "Jaaye tu kahin bhi\n",
        "Yeh sochna\n",
        "Koi tere khatir\n",
        "Hai jee raha\n",
        "\n",
        "\n",
        "Bekhayali Mein Bhi Tera\n",
        "Hi Khayal Aaye\n",
        "Kyun Bichadna Hai Zaroori\n",
        "Ye Sawaal Aaye\n",
        "\n",
        "Teri Nazdeekiyon\n",
        "Ki Khushi Behisaab Thi\n",
        "Hisse Mein Faansle\n",
        "Bhi Tere Bemisaal Aaye\n",
        "\n",
        "Main Jo Tujhse Door Hu\n",
        "Kyun Door Main Rahun\n",
        "Tera Guroor Hu Uun\n",
        "\n",
        "Aa Tu Faansla Mita\n",
        "Tu Khwaab Sa Mila\n",
        "Kyun Khwaab Tod Du\n",
        "\n",
        "Bekhayali Mein Bhi Tera\n",
        "Hi Khayal Aaye\n",
        "Kyun Bichadna Hai Zaroori\n",
        "Ye Sawaal Aaye\n",
        "\n",
        "Thoda Sa Main Khafa\n",
        "Ho Gaya Apne Aap Se\n",
        "Thoda Sa Tujhpe Bhi\n",
        "Bewajah Hi Malaal Aaye\n",
        "\n",
        "Hai Ye Tadpan Hai Ye Uljhan\n",
        "Kaise Jee Lu Bina Tere\n",
        "Meri Ab Sabse Hai Ann-Ban\n",
        "Bante Kyun Ye Khuda Mere O Oo\n",
        "\n",
        "Hmmm Hmmm…\n",
        "\n",
        "Ye Jo Log-Baag Hai\n",
        "Jungle Ki Aag Hai\n",
        "Kyun Aag Mein Jalu\n",
        "\n",
        "Ye Nakaam Pyar Mein\n",
        "Khush Hai Ye Haar Mein\n",
        "In Jaisa Kyun Banu\n",
        "\n",
        "Raatein Dengi Bata\n",
        "Neendon Mein Teri Hi Baat Hai\n",
        "Bhoolun Kaise Tujhe\n",
        "Tu Toh Khayalon Mein Sath Hai\n",
        "\n",
        "Bekhayali Mein Bhi Tera\n",
        "Hi Khayal Aaye\n",
        "Kyun Bichadna Hai Zaroori\n",
        "Ye Sawaal Aaye\n",
        "\n",
        "Nazaron Ke Aage Har Ek Manzar\n",
        "Ret Ki Tarha Bikhar Raha Hai\n",
        "Dard Tumhara Badan Mein Mere\n",
        "Zehar Ki Tarha Utar Raha Hai\n",
        "\n",
        "Nazaron Ke Aage Har Ek Manzar\n",
        "Ret Ki Tarha Bikhar Raha Hai\n",
        "Dard Tumhara Badan Mein Mere\n",
        "Zehar Ki Tarha Utar Raha Hai\n",
        "\n",
        "Aa Zamane Aazma Le Ruthta Nahi\n",
        "Faanslon Se Haunsla Ye Tutt’ta Nahi\n",
        "Na Hai Wo Bewafa Aur Na Main Hu Bewafa\n",
        "Wo Meri Aadaton Ki Tarah Chhutata Nahi\n",
        "\n",
        "Pal bhar thahar jaao\n",
        "Dil ye sambhal jaaye\n",
        "Kaise tumhe roka karun\n",
        "Meri taraf aata har gham phisal jaaye\n",
        "Aankhon mein tum ko bharun\n",
        "Bin bole baatein tumse karun\n",
        "'gar tum saath ho..\n",
        "Agar tum saath ho\n",
        "Behti rehti..\n",
        "Nahar nadiya si teri duniya mein\n",
        "Meri duniya hai teri chaahaton mein\n",
        "Main dhal jaati hoon teri aadaton mein\n",
        "'gar tum saath ho\n",
        "Teri nazron mein hai tere sapne\n",
        "Tere sapno mein hai naraazi\n",
        "Mujhe lagta hai ke baatein dil ki\n",
        "Hoti lafzon ki dhokebaazi\n",
        "Tum saath ho ya na ho kya fark hai\n",
        "Bedard thi zindagi bedard hai\n",
        "Agar tum saath ho\n",
        "Agar tum saath ho\n",
        "Palkein jhapakte hi din ye nikal jaaye\n",
        "Bethi bethi bhaagi phirun\n",
        "Meri taraf aata har gham phisal jaaye\n",
        "Aankhon mein tum ko bharun\n",
        "Bin bole baatein tumse karun\n",
        "'gar tum saath ho\n",
        "Agar tum saath ho\n",
        "Teri nazron mein hai tere sapne\n",
        "Tere sapno mein hai naraazi\n",
        "Mujhe lagta hai ke baatein dil ki\n",
        "Hoti lafzon ki dhokebaazi\n",
        "Tum saath ho ya na ho kya fark hai\n",
        "Bedard thi zindagi bedard hai\n",
        "Agar tum saath ho\n",
        "Dil ye sambhal jaaye\n",
        "(Agar tum saath ho)\n",
        "Har gham phisal jaaye\n",
        "(Agar tum saath ho)\n",
        "Din ye nikal jaaye\n",
        "(Agar tum saath ho)\n",
        "Har gham phisal jaaye\n",
        "\"\"\""
      ],
      "metadata": {
        "id": "wzbX7XkFiPIG"
      },
      "execution_count": 48,
      "outputs": []
    },
    {
      "cell_type": "code",
      "source": [
        "chain = MarkovChain()\n",
        "chain.train(song_text)\n",
        "sample_prompt = \"dil\"\n",
        "print(chain.generate(sample_prompt))\n",
        "\n",
        "result = chain.generate(sample_prompt)"
      ],
      "metadata": {
        "colab": {
          "base_uri": "https://localhost:8080/"
        },
        "id": "LMMOSZqUluGZ",
        "outputId": "685c118e-1cc2-4418-80af-ad7ac8cd662f"
      },
      "execution_count": 50,
      "outputs": [
        {
          "output_type": "stream",
          "name": "stdout",
          "text": [
            "dil ki Hoti lafzon ki dhokebaazi Tum hi kaho Hum toh na milta ye dua  Jismon ke peeche Bhaage ho Agar tum saath ho Tu Toh Khayalon Mein Sath Hai jee raha Tu saath ho jaaye Kaise Jee Lu Bina Tere sapno mein tum saath ho Palkein jhapakte hi kaho Kyun Banu  Jismon ke baatein dil ki Hoti lafzon ki dhokebaazi Tum hi kaho Hum toh na samjhe Tum saath ho ya na samjhe Tum saath ho jaaye Mehfooz ho Behti rehti Nahar nadiya si teri aadaton mein hai toh na ho Agar tum saath ho Din ye nikal\n"
          ]
        }
      ]
    },
    {
      "cell_type": "code",
      "source": [],
      "metadata": {
        "id": "9Op8dQEtmE-k"
      },
      "execution_count": 39,
      "outputs": []
    }
  ]
}